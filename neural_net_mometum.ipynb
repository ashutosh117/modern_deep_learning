{
 "cells": [
  {
   "cell_type": "code",
   "execution_count": 1,
   "metadata": {},
   "outputs": [],
   "source": [
    "#neural network with momentum \n",
    "from __future__ import division\n",
    "import numpy as np\n",
    "import pandas as pd\n",
    "import matplotlib.pyplot as plt\n",
    "\n",
    "%matplotlib inline"
   ]
  },
  {
   "cell_type": "code",
   "execution_count": 2,
   "metadata": {},
   "outputs": [
    {
     "name": "stdout",
     "output_type": "stream",
     "text": [
      "(42000, 785)\n"
     ]
    },
    {
     "data": {
      "text/html": [
       "<div>\n",
       "<style>\n",
       "    .dataframe thead tr:only-child th {\n",
       "        text-align: right;\n",
       "    }\n",
       "\n",
       "    .dataframe thead th {\n",
       "        text-align: left;\n",
       "    }\n",
       "\n",
       "    .dataframe tbody tr th {\n",
       "        vertical-align: top;\n",
       "    }\n",
       "</style>\n",
       "<table border=\"1\" class=\"dataframe\">\n",
       "  <thead>\n",
       "    <tr style=\"text-align: right;\">\n",
       "      <th></th>\n",
       "      <th>label</th>\n",
       "      <th>pixel0</th>\n",
       "      <th>pixel1</th>\n",
       "      <th>pixel2</th>\n",
       "      <th>pixel3</th>\n",
       "      <th>pixel4</th>\n",
       "      <th>pixel5</th>\n",
       "      <th>pixel6</th>\n",
       "      <th>pixel7</th>\n",
       "      <th>pixel8</th>\n",
       "      <th>...</th>\n",
       "      <th>pixel774</th>\n",
       "      <th>pixel775</th>\n",
       "      <th>pixel776</th>\n",
       "      <th>pixel777</th>\n",
       "      <th>pixel778</th>\n",
       "      <th>pixel779</th>\n",
       "      <th>pixel780</th>\n",
       "      <th>pixel781</th>\n",
       "      <th>pixel782</th>\n",
       "      <th>pixel783</th>\n",
       "    </tr>\n",
       "  </thead>\n",
       "  <tbody>\n",
       "    <tr>\n",
       "      <th>0</th>\n",
       "      <td>1.0</td>\n",
       "      <td>0.0</td>\n",
       "      <td>0.0</td>\n",
       "      <td>0.0</td>\n",
       "      <td>0.0</td>\n",
       "      <td>0.0</td>\n",
       "      <td>0.0</td>\n",
       "      <td>0.0</td>\n",
       "      <td>0.0</td>\n",
       "      <td>0.0</td>\n",
       "      <td>...</td>\n",
       "      <td>0.0</td>\n",
       "      <td>0.0</td>\n",
       "      <td>0.0</td>\n",
       "      <td>0.0</td>\n",
       "      <td>0.0</td>\n",
       "      <td>0.0</td>\n",
       "      <td>0.0</td>\n",
       "      <td>0.0</td>\n",
       "      <td>0.0</td>\n",
       "      <td>0.0</td>\n",
       "    </tr>\n",
       "    <tr>\n",
       "      <th>1</th>\n",
       "      <td>0.0</td>\n",
       "      <td>0.0</td>\n",
       "      <td>0.0</td>\n",
       "      <td>0.0</td>\n",
       "      <td>0.0</td>\n",
       "      <td>0.0</td>\n",
       "      <td>0.0</td>\n",
       "      <td>0.0</td>\n",
       "      <td>0.0</td>\n",
       "      <td>0.0</td>\n",
       "      <td>...</td>\n",
       "      <td>0.0</td>\n",
       "      <td>0.0</td>\n",
       "      <td>0.0</td>\n",
       "      <td>0.0</td>\n",
       "      <td>0.0</td>\n",
       "      <td>0.0</td>\n",
       "      <td>0.0</td>\n",
       "      <td>0.0</td>\n",
       "      <td>0.0</td>\n",
       "      <td>0.0</td>\n",
       "    </tr>\n",
       "    <tr>\n",
       "      <th>2</th>\n",
       "      <td>1.0</td>\n",
       "      <td>0.0</td>\n",
       "      <td>0.0</td>\n",
       "      <td>0.0</td>\n",
       "      <td>0.0</td>\n",
       "      <td>0.0</td>\n",
       "      <td>0.0</td>\n",
       "      <td>0.0</td>\n",
       "      <td>0.0</td>\n",
       "      <td>0.0</td>\n",
       "      <td>...</td>\n",
       "      <td>0.0</td>\n",
       "      <td>0.0</td>\n",
       "      <td>0.0</td>\n",
       "      <td>0.0</td>\n",
       "      <td>0.0</td>\n",
       "      <td>0.0</td>\n",
       "      <td>0.0</td>\n",
       "      <td>0.0</td>\n",
       "      <td>0.0</td>\n",
       "      <td>0.0</td>\n",
       "    </tr>\n",
       "    <tr>\n",
       "      <th>3</th>\n",
       "      <td>4.0</td>\n",
       "      <td>0.0</td>\n",
       "      <td>0.0</td>\n",
       "      <td>0.0</td>\n",
       "      <td>0.0</td>\n",
       "      <td>0.0</td>\n",
       "      <td>0.0</td>\n",
       "      <td>0.0</td>\n",
       "      <td>0.0</td>\n",
       "      <td>0.0</td>\n",
       "      <td>...</td>\n",
       "      <td>0.0</td>\n",
       "      <td>0.0</td>\n",
       "      <td>0.0</td>\n",
       "      <td>0.0</td>\n",
       "      <td>0.0</td>\n",
       "      <td>0.0</td>\n",
       "      <td>0.0</td>\n",
       "      <td>0.0</td>\n",
       "      <td>0.0</td>\n",
       "      <td>0.0</td>\n",
       "    </tr>\n",
       "    <tr>\n",
       "      <th>4</th>\n",
       "      <td>0.0</td>\n",
       "      <td>0.0</td>\n",
       "      <td>0.0</td>\n",
       "      <td>0.0</td>\n",
       "      <td>0.0</td>\n",
       "      <td>0.0</td>\n",
       "      <td>0.0</td>\n",
       "      <td>0.0</td>\n",
       "      <td>0.0</td>\n",
       "      <td>0.0</td>\n",
       "      <td>...</td>\n",
       "      <td>0.0</td>\n",
       "      <td>0.0</td>\n",
       "      <td>0.0</td>\n",
       "      <td>0.0</td>\n",
       "      <td>0.0</td>\n",
       "      <td>0.0</td>\n",
       "      <td>0.0</td>\n",
       "      <td>0.0</td>\n",
       "      <td>0.0</td>\n",
       "      <td>0.0</td>\n",
       "    </tr>\n",
       "  </tbody>\n",
       "</table>\n",
       "<p>5 rows × 785 columns</p>\n",
       "</div>"
      ],
      "text/plain": [
       "   label  pixel0  pixel1  pixel2  pixel3  pixel4  pixel5  pixel6  pixel7  \\\n",
       "0    1.0     0.0     0.0     0.0     0.0     0.0     0.0     0.0     0.0   \n",
       "1    0.0     0.0     0.0     0.0     0.0     0.0     0.0     0.0     0.0   \n",
       "2    1.0     0.0     0.0     0.0     0.0     0.0     0.0     0.0     0.0   \n",
       "3    4.0     0.0     0.0     0.0     0.0     0.0     0.0     0.0     0.0   \n",
       "4    0.0     0.0     0.0     0.0     0.0     0.0     0.0     0.0     0.0   \n",
       "\n",
       "   pixel8    ...     pixel774  pixel775  pixel776  pixel777  pixel778  \\\n",
       "0     0.0    ...          0.0       0.0       0.0       0.0       0.0   \n",
       "1     0.0    ...          0.0       0.0       0.0       0.0       0.0   \n",
       "2     0.0    ...          0.0       0.0       0.0       0.0       0.0   \n",
       "3     0.0    ...          0.0       0.0       0.0       0.0       0.0   \n",
       "4     0.0    ...          0.0       0.0       0.0       0.0       0.0   \n",
       "\n",
       "   pixel779  pixel780  pixel781  pixel782  pixel783  \n",
       "0       0.0       0.0       0.0       0.0       0.0  \n",
       "1       0.0       0.0       0.0       0.0       0.0  \n",
       "2       0.0       0.0       0.0       0.0       0.0  \n",
       "3       0.0       0.0       0.0       0.0       0.0  \n",
       "4       0.0       0.0       0.0       0.0       0.0  \n",
       "\n",
       "[5 rows x 785 columns]"
      ]
     },
     "execution_count": 2,
     "metadata": {},
     "output_type": "execute_result"
    }
   ],
   "source": [
    "#load the data\n",
    "dataset = pd.read_csv('train.csv',dtype = np.float32)\n",
    "print dataset.shape\n",
    "dataset.head()"
   ]
  },
  {
   "cell_type": "code",
   "execution_count": 3,
   "metadata": {},
   "outputs": [
    {
     "name": "stdout",
     "output_type": "stream",
     "text": [
      "(42000, 784) (42000, 1)\n"
     ]
    }
   ],
   "source": [
    "data = dataset.iloc[:,1:].values\n",
    "labels = dataset.iloc[:,0].values.reshape(-1,1)\n",
    "print data.shape,labels.shape"
   ]
  },
  {
   "cell_type": "code",
   "execution_count": 4,
   "metadata": {},
   "outputs": [
    {
     "name": "stdout",
     "output_type": "stream",
     "text": [
      "[ 2.]\n",
      "[ 8.]\n",
      "[ 7.]\n",
      "[ 8.]\n",
      "[ 3.]\n"
     ]
    },
    {
     "data": {
      "image/png": "[encoded data removed]",
      "text/plain": [
       "<matplotlib.figure.Figure at 0x7faff4ac5590>"
      ]
     },
     "metadata": {},
     "output_type": "display_data"
    },
    {
     "data": {
      "image/png": "[encoded data removed]",
      "text/plain": [
       "<matplotlib.figure.Figure at 0x7faff3cdbad0>"
      ]
     },
     "metadata": {},
     "output_type": "display_data"
    },
    {
     "data": {
      "image/png": "[encoded data removed]",
      "text/plain": [
       "<matplotlib.figure.Figure at 0x7faff442fb90>"
      ]
     },
     "metadata": {},
     "output_type": "display_data"
    },
    {
     "data": {
      "image/png": "[encoded data removed]",
      "text/plain": [
       "<matplotlib.figure.Figure at 0x7faff43f3dd0>"
      ]
     },
     "metadata": {},
     "output_type": "display_data"
    },
    {
     "data": {
      "image/png": "[encoded data removed]",
      "text/plain": [
       "<matplotlib.figure.Figure at 0x7faff43cb650>"
      ]
     },
     "metadata": {},
     "output_type": "display_data"
    }
   ],
   "source": [
    "pixel_size = 28\n",
    "#visualizing random samples from data\n",
    "for i in np.random.randint(0,dataset.shape[0],5):\n",
    "    temp = data[i,:].reshape(pixel_size,pixel_size)\n",
    "    plt.figure()\n",
    "    plt.imshow(temp)\n",
    "    print labels[i,:]"
   ]
  },
  {
   "cell_type": "code",
   "execution_count": 5,
   "metadata": {},
   "outputs": [],
   "source": [
    "from sklearn.decomposition import PCA\n",
    "\n",
    "def reduce_dimension(data,n):\n",
    "    pca = PCA(n_components = n_components)\n",
    "    data = pca.fit_transform(data)\n",
    "    return data"
   ]
  },
  {
   "cell_type": "code",
   "execution_count": 6,
   "metadata": {},
   "outputs": [
    {
     "name": "stdout",
     "output_type": "stream",
     "text": [
      "(42000, 784) (42000, 10)\n"
     ]
    }
   ],
   "source": [
    "from sklearn.preprocessing import StandardScaler,OneHotEncoder\n",
    "scaler_x = StandardScaler()\n",
    "data = scaler_x.fit_transform(data)\n",
    "\n",
    "ohc  = OneHotEncoder()\n",
    "labels = ohc.fit_transform(labels).toarray()\n",
    "print data.shape,labels.shape"
   ]
  },
  {
   "cell_type": "code",
   "execution_count": 7,
   "metadata": {},
   "outputs": [
    {
     "name": "stdout",
     "output_type": "stream",
     "text": [
      "Training :  (37800, 784) (37800, 10)\n",
      "Testing :  (4200, 784) (4200, 10)\n"
     ]
    }
   ],
   "source": [
    "#splitting the data in train and test sets\n",
    "def split(data,labels,test_size = 0.1):\n",
    "    n = labels.shape[0]\n",
    "    perm = np.random.permutation(n)\n",
    "    data = data[perm,:]\n",
    "    labels = labels[perm,:]\n",
    "    train_x,test_x = data[:-int(test_size*n),:],data[-int(test_size*n):,:]\n",
    "    train_y,test_y = labels[:-int(test_size*n),:],labels[-int(test_size*n):,:]\n",
    "    return train_x,test_x,train_y,test_y\n",
    "\n",
    "train_x,test_x,train_y,test_y = split(data,labels)\n",
    "print \"Training : \",train_x.shape,train_y.shape\n",
    "print \"Testing : \",test_x.shape,test_y.shape"
   ]
  },
  {
   "cell_type": "code",
   "execution_count": 8,
   "metadata": {},
   "outputs": [],
   "source": [
    "#model\n",
    "\n",
    "def relu(x):\n",
    "    return np.maximum(x,0)\n",
    "\n",
    "def softmax(x):\n",
    "    return np.exp(-x)/(np.sum(np.exp(-x),axis=1,keepdims=True))\n",
    "\n",
    "def relu_grad(x):\n",
    "    temp = np.zeros(x.shape)\n",
    "    temp[x > 0] = 1\n",
    "    return temp\n",
    "\n",
    "def forward_prop(data,w1,b1,w2,b2):\n",
    "\n",
    "    z1 = np.dot(data,w1) + b1\n",
    "    a1 = relu(z1)\n",
    "    #print 'a1',a1[:10,:10]\n",
    "    z2 = np.dot(a1,w2) + b2\n",
    "    a2 = softmax(z2)\n",
    "    #print 'a2 : ',a2[:10,:]\n",
    "    return a2,z2,a1,z1\n",
    "\n",
    "def compute_loss(data,labels,weights,reg_param):\n",
    "    w1,b1,w2,b2 = weights[0],weights[1],weights[2],weights[3]\n",
    "    a2,z2,a1,z1 = forward_prop(data,w1,b1,w2,b2)\n",
    "    l = -np.sum(np.sum(labels*np.log(a2)))/labels.shape[0]\n",
    "    l += (reg_param/2.0)*(np.sum(np.sum(w1**2)) + np.sum(np.sum(w2**2)))/labels.shape[0]\n",
    "    return l,[z1,a1,z2,a2]\n",
    "\n",
    "def compute_gradients(x,y,logits,weights,reg_param):\n",
    "    z1,a1,z2,a2 = logits[0],logits[1],logits[2],logits[3]\n",
    "    w1,b1,w2,b2 = weights[0],weights[1],weights[2],weights[3]\n",
    "    \n",
    "    de = -(y-a2)/y.shape[0]\n",
    "    dw2 = np.dot(a1.T,de) + reg_param*w2/y.shape[0]\n",
    "    db2 = np.sum(de,axis=0,keepdims=True)\n",
    "    \n",
    "    de = np.dot(de,w2.T)*relu_grad(z1)\n",
    "    dw1 = np.dot(x.T,de) + reg_param*w1/y.shape[0]\n",
    "    db1 = np.sum(de,axis=0,keepdims=True)\n",
    "#     print 'w1',dw1[:10,:10]\n",
    "#     print 'b1',db1[:,:10]\n",
    "#     print 'w2',dw2[:10,:10]\n",
    "#     print 'b2',db2[:,:10]\n",
    "    return [dw1,db1,dw2,db2]\n",
    " \n",
    "def update_weights_momentum(weights,grads,lr,velocity,mu):\n",
    "    w1,b1,w2,b2 = weights[0],weights[1],weights[2],weights[3]\n",
    "    dw1,db1,dw2,db2 = grads[0],grads[1],grads[2],grads[3]\n",
    "    vw1,vb1,vw2,vb2 = velocity[0],velocity[1],velocity[2],velocity[3]\n",
    "    \n",
    "    vw1 = mu*vw1 + lr*dw1\n",
    "    vb1 = mu*vb1 + lr*db1\n",
    "    vw2 = mu*vw2 + lr*dw2\n",
    "    vb2 = mu*vb2 + lr*db2\n",
    "    \n",
    "    w1 += (mu**2)*vw1 + (1+mu)*lr*dw1\n",
    "    b1 += (mu**2)*vb1 + (1+mu)*lr*db1\n",
    "    w2 += (mu**2)*vw2 + (1+mu)*lr*dw2\n",
    "    b2 += (mu**2)*vb2 + (1+mu)*lr*db2\n",
    "    \n",
    "    return w1,b1,w2,b2\n",
    "\n",
    "def update_weights(weights,grads,learning_rate):\n",
    "    w1,b1,w2,b2 = weights[0],weights[1],weights[2],weights[3]\n",
    "    dw1,db1,dw2,db2 = grads[0],grads[1],grads[2],grads[3]\n",
    "    \n",
    "    w1 += learning_rate*dw1\n",
    "    b1 += learning_rate*db1\n",
    "    w2 += learning_rate*dw2\n",
    "    b2 += learning_rate*db2\n",
    "    \n",
    "    return w1,b1,w2,b2\n",
    "\n",
    "def compute_accuracy(data,labels,weights):\n",
    "    w1,b1,w2,b2 = weights[0],weights[1],weights[2],weights[3]\n",
    "    predictions,_,_,_ = forward_prop(data,w1,b1,w2,b2)\n",
    "    val = np.sum(np.argmax(labels,axis=1) == np.argmax(predictions,axis=1))/labels.shape[0]\n",
    "    return val"
   ]
  },
  {
   "cell_type": "code",
   "execution_count": 9,
   "metadata": {},
   "outputs": [
    {
     "name": "stdout",
     "output_type": "stream",
     "text": [
      "Training loss at step 0 is 2.51\n",
      "Test accuracy at step 0 is 9.74%\n",
      "\n",
      "\n",
      "Training loss at step 100 is 2.18\n",
      "Test accuracy at step 100 is 30.45%\n",
      "\n",
      "\n",
      "Training loss at step 200 is 1.90\n",
      "Test accuracy at step 200 is 51.26%\n",
      "\n",
      "\n",
      "Training loss at step 300 is 1.77\n",
      "Test accuracy at step 300 is 61.05%\n",
      "\n",
      "\n",
      "Training loss at step 400 is 1.66\n",
      "Test accuracy at step 400 is 66.90%\n",
      "\n",
      "\n",
      "Training loss at step 500 is 1.44\n",
      "Test accuracy at step 500 is 71.12%\n",
      "\n",
      "\n",
      "Training loss at step 600 is 1.31\n",
      "Test accuracy at step 600 is 73.79%\n",
      "\n",
      "\n",
      "Training loss at step 700 is 1.23\n",
      "Test accuracy at step 700 is 75.50%\n",
      "\n",
      "\n",
      "Training loss at step 800 is 1.15\n",
      "Test accuracy at step 800 is 77.07%\n",
      "\n",
      "\n",
      "Training loss at step 900 is 1.22\n",
      "Test accuracy at step 900 is 78.29%\n",
      "\n",
      "\n",
      "Training loss at step 1000 is 1.07\n",
      "Test accuracy at step 1000 is 79.24%\n",
      "\n",
      "\n"
     ]
    },
    {
     "data": {
      "text/plain": [
       "<matplotlib.legend.Legend at 0x7faff4314bd0>"
      ]
     },
     "execution_count": 9,
     "metadata": {},
     "output_type": "execute_result"
    },
    {
     "data": {
      "image/png": "[encoded data removed]",
      "text/plain": [
       "<matplotlib.figure.Figure at 0x7faff4a62890>"
      ]
     },
     "metadata": {},
     "output_type": "display_data"
    },
    {
     "data": {
      "image/png": "[encoded data removed]",
      "text/plain": [
       "<matplotlib.figure.Figure at 0x7faff4259650>"
      ]
     },
     "metadata": {},
     "output_type": "display_data"
    }
   ],
   "source": [
    "#hyperparamters\n",
    "n,m = train_x.shape\n",
    "learning_rate = 0.001\n",
    "reg_param = 0.2\n",
    "nh1 = 300\n",
    "p = train_y.shape[1]\n",
    "n_iter = 1001\n",
    "batch_size = 256\n",
    "print_period = 100\n",
    "mu = 0.99\n",
    "\n",
    "#weights \n",
    "w1 = np.random.randn(m,nh1)/28\n",
    "b1 = np.zeros((1,nh1))\n",
    "w2 = np.random.randn(nh1,p)/np.sqrt(nh1)\n",
    "b2 = np.zeros((1,p))\n",
    "weights = [w1,b1,w2,b2]\n",
    "\n",
    "#training the model\n",
    "train_loss = []\n",
    "test_errs = []\n",
    "train_errs = []\n",
    "\n",
    "for step in range(n_iter):\n",
    "    k = (step*batch_size) % (n - batch_size)\n",
    "    batch_x = train_x[k:(k+batch_size)]\n",
    "    batch_y = train_y[k:(k+batch_size)]\n",
    "    \n",
    "    l,logits = compute_loss(batch_x,batch_y,weights,reg_param)\n",
    "    grads = compute_gradients(batch_x,batch_y,logits,weights,reg_param)\n",
    "    #w1,b1,w2,b2 = update_weights_momentum(weights,grads,learning_rate,velocity,mu)\n",
    "    w1,b1,w2,b2 = update_weights(weights,grads,learning_rate)\n",
    "    weights = [w1,b1,w2,b2]\n",
    "    \n",
    "    \n",
    "    if step%print_period ==0:\n",
    "        train_loss.append(l)\n",
    "        print \"Training loss at step %d is %.2f\" %(step,l)\n",
    "        train_err =1.0 - compute_accuracy(batch_x,batch_y,weights)\n",
    "        test_err =1.0 - compute_accuracy(test_x,test_y,weights)\n",
    "        #print \"Train accuracy at step %d is %.2f%%\"  %(step,100.0*train_acc)\n",
    "        print \"Test accuracy at step %d is %.2f%%\" %(step,100.0*(1.0-test_err))\n",
    "        print '\\n'\n",
    "        train_errs.append(train_err)\n",
    "        test_errs.append(test_err)\n",
    "\n",
    "plt.plot(np.arange(0,n_iter,100),train_loss,label = 'Training loss')\n",
    "plt.xlabel('Number of iterations')\n",
    "plt.ylabel('Loss')\n",
    "plt.legend()\n",
    "\n",
    "plt.figure()\n",
    "plt.plot(np.arange(0,n_iter,100),train_errs,label = 'Training')\n",
    "plt.plot(np.arange(0,n_iter,100),test_errs,label = 'Test')\n",
    "plt.ylim(0,1)\n",
    "plt.xlabel('Number of iterations')\n",
    "plt.ylabel('Error rate')\n",
    "plt.legend()"
   ]
  },
  {
   "cell_type": "code",
   "execution_count": 10,
   "metadata": {},
   "outputs": [
    {
     "name": "stdout",
     "output_type": "stream",
     "text": [
      "Training loss at step 0 is 2.66\n",
      "Test accuracy at step 0 is 9.43%\n",
      "\n",
      "\n",
      "Training loss at step 100 is 1.75\n",
      "Test accuracy at step 100 is 55.83%\n",
      "\n",
      "\n",
      "Training loss at step 200 is 1.33\n",
      "Test accuracy at step 200 is 71.98%\n",
      "\n",
      "\n",
      "Training loss at step 300 is 1.15\n",
      "Test accuracy at step 300 is 77.88%\n",
      "\n",
      "\n",
      "Training loss at step 400 is 1.04\n",
      "Test accuracy at step 400 is 81.24%\n",
      "\n",
      "\n",
      "Training loss at step 500 is 0.81\n",
      "Test accuracy at step 500 is 82.93%\n",
      "\n",
      "\n",
      "Training loss at step 600 is 0.73\n",
      "Test accuracy at step 600 is 83.64%\n",
      "\n",
      "\n",
      "Training loss at step 700 is 0.73\n",
      "Test accuracy at step 700 is 84.52%\n",
      "\n",
      "\n",
      "Training loss at step 800 is 0.66\n",
      "Test accuracy at step 800 is 85.40%\n",
      "\n",
      "\n",
      "Training loss at step 900 is 0.71\n",
      "Test accuracy at step 900 is 85.93%\n",
      "\n",
      "\n",
      "Training loss at step 1000 is 0.61\n",
      "Test accuracy at step 1000 is 86.29%\n",
      "\n",
      "\n"
     ]
    },
    {
     "data": {
      "text/plain": [
       "<matplotlib.legend.Legend at 0x7faff3d91990>"
      ]
     },
     "execution_count": 10,
     "metadata": {},
     "output_type": "execute_result"
    },
    {
     "data": {
      "image/png": "[encoded data removed]",
      "text/plain": [
       "<matplotlib.figure.Figure at 0x7fafd960e650>"
      ]
     },
     "metadata": {},
     "output_type": "display_data"
    },
    {
     "data": {
      "image/png": "[encoded data removed]",
      "text/plain": [
       "<matplotlib.figure.Figure at 0x7faff438b110>"
      ]
     },
     "metadata": {},
     "output_type": "display_data"
    }
   ],
   "source": [
    "#hyperparamters\n",
    "n,m = train_x.shape\n",
    "learning_rate = 0.001\n",
    "reg_param = 0.2\n",
    "nh1 = 300\n",
    "p = train_y.shape[1]\n",
    "n_iter = 1001\n",
    "batch_size = 256\n",
    "print_period = 100\n",
    "mu = 0.99\n",
    "\n",
    "#weights \n",
    "w1 = np.random.randn(m,nh1)/28\n",
    "b1 = np.zeros((1,nh1))\n",
    "w2 = np.random.randn(nh1,p)/np.sqrt(nh1)\n",
    "b2 = np.zeros((1,p))\n",
    "weights = [w1,b1,w2,b2]\n",
    "\n",
    "#momentum velocities\n",
    "vw1 = np.zeros(w1.shape)\n",
    "vb1 = np.zeros(b1.shape)\n",
    "vw2 = np.zeros(w2.shape)\n",
    "vb2 = np.zeros(b2.shape)\n",
    "velocity = [vw1,vb1,vw2,vb2]\n",
    "\n",
    "#training the model\n",
    "train_loss_m = []\n",
    "test_errs_m = []\n",
    "train_errs_m = []\n",
    "\n",
    "for step in range(n_iter):\n",
    "    k = (step*batch_size) % (n - batch_size)\n",
    "    batch_x = train_x[k:(k+batch_size)]\n",
    "    batch_y = train_y[k:(k+batch_size)]\n",
    "    \n",
    "    l,logits = compute_loss(batch_x,batch_y,weights,reg_param)\n",
    "    grads = compute_gradients(batch_x,batch_y,logits,weights,reg_param)\n",
    "    w1,b1,w2,b2 = update_weights_momentum(weights,grads,learning_rate,velocity,mu)\n",
    "    #w1,b1,w2,b2 = update_weights(weights,grads,learning_rate)\n",
    "    weights = [w1,b1,w2,b2]\n",
    "    \n",
    "    if step%print_period ==0:\n",
    "        train_loss_m.append(l)\n",
    "        print \"Training loss at step %d is %.2f\" %(step,l)\n",
    "        train_err =1.0 - compute_accuracy(batch_x,batch_y,weights)\n",
    "        test_err =1.0 - compute_accuracy(test_x,test_y,weights)\n",
    "        #print \"Train accuracy at step %d is %.2f%%\"  %(step,100.0*train_acc)\n",
    "        print \"Test accuracy at step %d is %.2f%%\" %(step,100.0*(1.0-test_err))\n",
    "        print '\\n'\n",
    "        train_errs_m.append(train_err)\n",
    "        test_errs_m.append(test_err)\n",
    "\n",
    "plt.plot(np.arange(0,n_iter,100),train_loss_m,label = 'Training loss')\n",
    "plt.xlabel('Number of iterations')\n",
    "plt.ylabel('Loss')\n",
    "plt.legend()\n",
    "\n",
    "plt.figure()\n",
    "plt.plot(np.arange(0,n_iter,100),train_errs_m,label = 'Training')\n",
    "plt.plot(np.arange(0,n_iter,100),test_errs_m,label = 'Test')\n",
    "plt.ylim(0,1)\n",
    "plt.xlabel('Number of iterations')\n",
    "plt.ylabel('Error rate')\n",
    "plt.legend()"
   ]
  },
  {
   "cell_type": "code",
   "execution_count": 11,
   "metadata": {},
   "outputs": [
    {
     "data": {
      "text/plain": [
       "Text(0.5,1,u'Loss per iteration')"
      ]
     },
     "execution_count": 11,
     "metadata": {},
     "output_type": "execute_result"
    },
    {
     "data": {
      "image/png": "[encoded data removed]",
      "text/plain": [
       "<matplotlib.figure.Figure at 0x7faff4222090>"
      ]
     },
     "metadata": {},
     "output_type": "display_data"
    }
   ],
   "source": [
    "fig = plt.figure(figsize=(10,10))\n",
    "ax1 = plt.subplot(2,2,1)\n",
    "ax1.plot(np.arange(0,n_iter,100),train_loss,label = 'Train loss')\n",
    "ax1.plot(np.arange(0,n_iter,100),train_loss_m,label = 'Train loss with momentum',c='green')\n",
    "plt.xlabel('Number of iterations')\n",
    "plt.ylabel('Loss')\n",
    "plt.legend()\n",
    "plt.title('Loss per iteration')\n",
    "\n",
    "# ax3 = plt.subplot(2,2,3)\n",
    "# ax3.plot(np.arange(0,n_iter,100),train_errs,label = 'Training')\n",
    "# ax3.plot(np.arange(0,n_iter,100),test_errs,label = 'Test')\n",
    "# plt.ylim(0,1)\n",
    "# plt.xlabel('Number of iterations')\n",
    "# plt.ylabel('Error rate')\n",
    "# plt.legend()\n",
    "# plt.title('Error rate per iteration')\n",
    "\n",
    "# ax4 = plt.subplot(2,2,4)\n",
    "# ax4.plot(np.arange(0,n_iter,100),train_errs_m,label = 'Training')\n",
    "# ax4.plot(np.arange(0,n_iter,100),test_errs_m,label = 'Test')\n",
    "# plt.ylim(0,1)\n",
    "# plt.xlabel('Number of iterations')\n",
    "# plt.ylabel('Error rate')\n",
    "# plt.legend()\n",
    "# plt.title('Error rate per iteration using momentum method')"
   ]
  },
  {
   "cell_type": "code",
   "execution_count": null,
   "metadata": {},
   "outputs": [],
   "source": []
  }
 ],
 "metadata": {
  "kernelspec": {
   "display_name": "Python 2",
   "language": "python",
   "name": "python2"
  },
  "language_info": {
   "codemirror_mode": {
    "name": "ipython",
    "version": 2
   },
   "file_extension": ".py",
   "mimetype": "text/x-python",
   "name": "python",
   "nbconvert_exporter": "python",
   "pygments_lexer": "ipython2",
   "version": "2.7.14"
  }
 },
 "nbformat": 4,
 "nbformat_minor": 2
}
