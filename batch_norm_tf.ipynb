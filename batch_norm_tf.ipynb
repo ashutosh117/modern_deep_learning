{
 "cells": [
  {
   "cell_type": "code",
   "execution_count": 1,
   "metadata": {},
   "outputs": [],
   "source": [
    "from __future__ import division\n",
    "import numpy as np\n",
    "import pandas as pd\n",
    "import matplotlib.pyplot as plt\n",
    "\n",
    "import tensorflow as tf\n",
    "from util import *\n",
    "from sklearn.utils import shuffle\n",
    "from batch_normal_tf import ANN\n",
    "\n",
    "%matplotlib inline\n",
    "%load_ext autoreload\n",
    "%autoreload 2"
   ]
  },
  {
   "cell_type": "code",
   "execution_count": 2,
   "metadata": {},
   "outputs": [
    {
     "name": "stdout",
     "output_type": "stream",
     "text": [
      "(42000, 784) (42000, 10)\n"
     ]
    }
   ],
   "source": [
    "X,Y = get_normalized_data()\n",
    "print X.shape,Y.shape"
   ]
  },
  {
   "cell_type": "code",
   "execution_count": 54,
   "metadata": {},
   "outputs": [],
   "source": [
    "hidden_layer_sizes = [500,200]\n",
    "keep_probs = [0.8,0.5,0.5]\n",
    "ann = ANN(hidden_layer_sizes,keep_probs)"
   ]
  },
  {
   "cell_type": "code",
   "execution_count": 55,
   "metadata": {},
   "outputs": [
    {
     "name": "stdout",
     "output_type": "stream",
     "text": [
      "Epoch : 0,Batch : 0,train loss : 2.4110,valid loss : 10.9029,valid err: 0.9010\n",
      "Epoch : 0,Batch : 50,train loss : 2.3117,valid loss : 2.2405,valid err: 0.8220\n",
      "Epoch : 0,Batch : 100,train loss : 2.3195,valid loss : 2.2229,valid err: 0.8040\n",
      "Epoch : 0,Batch : 150,train loss : 2.2649,valid loss : 2.2013,valid err: 0.7930\n",
      "Epoch : 0,Batch : 200,train loss : 2.1606,valid loss : 2.0956,valid err: 0.7150\n",
      "Epoch : 1,Batch : 0,train loss : 2.0443,valid loss : 2.0713,valid err: 0.6950\n",
      "Epoch : 1,Batch : 50,train loss : 1.5469,valid loss : 1.6223,valid err: 0.4750\n",
      "Epoch : 1,Batch : 100,train loss : 1.2201,valid loss : 1.2405,valid err: 0.3480\n",
      "Epoch : 1,Batch : 150,train loss : 0.8067,valid loss : 0.8949,valid err: 0.2070\n",
      "Epoch : 1,Batch : 200,train loss : 0.4545,valid loss : 0.3905,valid err: 0.1080\n",
      "Epoch : 2,Batch : 0,train loss : 0.4239,valid loss : 0.3738,valid err: 0.1040\n",
      "Epoch : 2,Batch : 50,train loss : 0.3275,valid loss : 0.2694,valid err: 0.0790\n",
      "Epoch : 2,Batch : 100,train loss : 0.3054,valid loss : 0.2237,valid err: 0.0690\n",
      "Epoch : 2,Batch : 150,train loss : 0.3551,valid loss : 0.1979,valid err: 0.0600\n",
      "Epoch : 2,Batch : 200,train loss : 0.2584,valid loss : 0.1815,valid err: 0.0560\n",
      "Epoch : 3,Batch : 0,train loss : 0.3010,valid loss : 0.1792,valid err: 0.0530\n",
      "Epoch : 3,Batch : 50,train loss : 0.3228,valid loss : 0.1626,valid err: 0.0560\n",
      "Epoch : 3,Batch : 100,train loss : 0.2994,valid loss : 0.1492,valid err: 0.0490\n",
      "Epoch : 3,Batch : 150,train loss : 0.1626,valid loss : 0.1377,valid err: 0.0380\n",
      "Epoch : 3,Batch : 200,train loss : 0.2332,valid loss : 0.1326,valid err: 0.0390\n",
      "Epoch : 4,Batch : 0,train loss : 0.2295,valid loss : 0.1321,valid err: 0.0370\n",
      "Epoch : 4,Batch : 50,train loss : 0.2085,valid loss : 0.1260,valid err: 0.0380\n",
      "Epoch : 4,Batch : 100,train loss : 0.3168,valid loss : 0.1179,valid err: 0.0300\n",
      "Epoch : 4,Batch : 150,train loss : 0.2870,valid loss : 0.1144,valid err: 0.0290\n",
      "Epoch : 4,Batch : 200,train loss : 0.1519,valid loss : 0.1070,valid err: 0.0310\n"
     ]
    },
    {
     "data": {
      "image/png": "[encoded data removed]",
      "text/plain": [
       "<matplotlib.figure.Figure at 0x7f909a914050>"
      ]
     },
     "metadata": {},
     "output_type": "display_data"
    }
   ],
   "source": [
    "ann.fit(X,Y,batch_size = 200,epochs = 5,lr = 0.0001,decay=0.9,mu=0.9,print_period=50)"
   ]
  },
  {
   "cell_type": "code",
   "execution_count": null,
   "metadata": {},
   "outputs": [],
   "source": []
  }
 ],
 "metadata": {
  "kernelspec": {
   "display_name": "Python 2",
   "language": "python",
   "name": "python2"
  },
  "language_info": {
   "codemirror_mode": {
    "name": "ipython",
    "version": 2
   },
   "file_extension": ".py",
   "mimetype": "text/x-python",
   "name": "python",
   "nbconvert_exporter": "python",
   "pygments_lexer": "ipython2",
   "version": "2.7.14"
  }
 },
 "nbformat": 4,
 "nbformat_minor": 2
}
